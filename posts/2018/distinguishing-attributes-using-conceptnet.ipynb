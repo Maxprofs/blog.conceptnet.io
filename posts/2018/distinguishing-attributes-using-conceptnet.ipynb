{
 "cells": [
  {
   "cell_type": "markdown",
   "metadata": {},
   "source": [
    "In [a previous post](http://blog.conceptnet.io/posts/2018/conceptnet-at-semeval-2018/),\n",
    "we mentioned the good results that systems built using ConceptNet got at SemEval this year.\n",
    "One of those systems was our own entry to the \"Capturing Discriminative Attributes\" task,\n",
    "about determining differences in meanings between words.\n",
    "\n",
    "The system we submitted got second place, by combining information from ConceptNet, WordNet,\n",
    "Wikipedia, and Google Books. That system has some messy dependencies and fiddly details, so\n",
    "in this tutorial, we're going to build a much simpler version of the system that also performs\n",
    "well."
   ]
  },
  {
   "cell_type": "markdown",
   "metadata": {},
   "source": [
    "## Distinguishing attributes the simple way\n",
    "\n",
    "Our poster, a prettier version of [our SemEval paper](http://aclweb.org/anthology/S18-1162), mainly presents the full version of the system, the one that uses five different methods of distinguishing attributes and combines them all in an SVM classifier. But here, I particularly want you to take note of the \"ConceptNet is all you need\" section, describing a simpler version we discovered while evaluating what made the full system work.\n",
    "\n",
    "[![A rendering of our SemEval 2018 poster. The link leads to a PDF version.](https://blog.conceptnet.io/2018/06/naacl2018-poster.png)](https://blog.conceptnet.io/2018/06/naacl2018-poster.pdf)\n",
    "\n",
    "It seems that, instead of using five kinds of features, we may have been able to do just as well using just the pre-trained embeddings we call [ConceptNet Numberbatch](https://github.com/commonsense/conceptnet-numberbatch). So we'll build that system here, using the ConceptNet Numberbatch data and a small amount of code, with only common dependencies (pandas and sklearn)."
   ]
  },
  {
   "cell_type": "code",
   "execution_count": 1,
   "metadata": {},
   "outputs": [],
   "source": [
    "from sklearn.metrics import f1_score\n",
    "import numpy as np\n",
    "import pandas as pd"
   ]
  },
  {
   "cell_type": "markdown",
   "metadata": {},
   "source": [
    "I want you to be able to reproduce this result, so I've put the SemEval data files, along with the exact version of ConceptNet Numberbatch we were using, in a zip file on my favorite scientific data hosting service, Zenodo.\n",
    "\n",
    "These shell commands should serve the purpose of downloading and extracting that data, if the `wget` and `unzip` commands are available on your system."
   ]
  },
  {
   "cell_type": "code",
   "execution_count": 2,
   "metadata": {},
   "outputs": [
    {
     "name": "stdout",
     "output_type": "stream",
     "text": [
      "--2018-06-15 10:47:28--  https://zenodo.org/record/1289942/files/conceptnet-distinguishing-attributes-data.zip\n",
      "Resolving zenodo.org (zenodo.org)... 137.138.76.77\n",
      "Connecting to zenodo.org (zenodo.org)|137.138.76.77|:443... connected.\n",
      "HTTP request sent, awaiting response... 200 OK\n",
      "Length: 2457101853 (2.3G) [application/octet-stream]\n",
      "Saving to: ‘conceptnet-distinguishing-attributes-data.zip’\n",
      "\n",
      "conceptnet-distingu 100%[===================>]   2.29G  2.88MB/s    in 10m 9s  \n",
      "\n",
      "2018-06-15 10:57:38 (3.85 MB/s) - ‘conceptnet-distinguishing-attributes-data.zip’ saved [2457101853/2457101853]\n",
      "\n"
     ]
    }
   ],
   "source": [
    "!wget https://zenodo.org/record/1289942/files/conceptnet-distinguishing-attributes-data.zip"
   ]
  },
  {
   "cell_type": "code",
   "execution_count": 8,
   "metadata": {},
   "outputs": [
    {
     "name": "stdout",
     "output_type": "stream",
     "text": [
      "Archive:  conceptnet-distinguishing-attributes-data.zip\n",
      "  inflating: numberbatch-20180108-biased.h5  \n",
      "  inflating: discriminatt-test.txt   \n",
      "  inflating: discriminatt-train.txt  \n",
      "  inflating: discriminatt-validation.txt  \n"
     ]
    }
   ],
   "source": [
    "!unzip conceptnet-distinguishing-attributes-data.zip"
   ]
  },
  {
   "cell_type": "markdown",
   "metadata": {},
   "source": [
    "In our actual solution, we imported some utilities from the [ConceptNet5 codebase](https://github.com/commonsense/conceptnet5). In this simplified version, we'll re-define the utilities that we need."
   ]
  },
  {
   "cell_type": "code",
   "execution_count": 9,
   "metadata": {},
   "outputs": [],
   "source": [
    "def text_to_uri(text):\n",
    "    \"\"\"\n",
    "    An extremely cut-down version of ConceptNet's `standardized_concept_uri`.\n",
    "    Converts a term such as \"apple\" into its ConceptNet URI, \"/c/en/apple\".\n",
    "    \n",
    "    Only works for single English words, with no punctuation besides hyphens.\n",
    "    \"\"\"\n",
    "    return '/c/en/' + text.lower().replace('-', '_')\n",
    "\n",
    "def normalize_vec(vec):\n",
    "    \"\"\"\n",
    "    Normalize a vector to a unit vector, so that dot products are cosine\n",
    "    similarities.\n",
    "    \n",
    "    If it's the zero vector, leave it as is, so all its cosine similarities\n",
    "    will be zero.\n",
    "    \"\"\"\n",
    "    norm = vec.dot(vec) ** 0.5\n",
    "    if norm == 0:\n",
    "        return vec\n",
    "    return vec / norm"
   ]
  },
  {
   "cell_type": "markdown",
   "metadata": {},
   "source": [
    "We would need a lot more support from the ConceptNet code if we wanted to apply ConceptNet's strategy for out-of-vocabulary words. Fortunately, the words in this task are quite common. Our out-of-vocabulary strategy can be to return the zero vector."
   ]
  },
  {
   "cell_type": "code",
   "execution_count": 10,
   "metadata": {},
   "outputs": [],
   "source": [
    "class AttributeHeuristic:\n",
    "    def __init__(self, hdf5_filename):\n",
    "        \"\"\"\n",
    "        Load a word embedding matrix that is the 'mat' member of an HDF5 file,\n",
    "        with UTF-8 labels for its rows.\n",
    "        \n",
    "        (This is the format that ConceptNet Numberbatch word embeddings use.)\n",
    "        \"\"\"\n",
    "        self.embeddings = pd.read_hdf(hdf5_filename, 'mat', encoding='utf-8')\n",
    "        self.cache = {}\n",
    "\n",
    "    def get_vector(self, term):\n",
    "        \"\"\"\n",
    "        Look up the vector for a term, returning it normalized to a unit vector.\n",
    "        If the term is out-of-vocabulary, return a zero vector.\n",
    "        \n",
    "        Because many terms appear repeatedly in the data, cache the result.\n",
    "        \"\"\"\n",
    "        uri = text_to_uri(term)\n",
    "        if uri in self.cache:\n",
    "            return self.cache[uri]\n",
    "        else:\n",
    "            try:\n",
    "                vec = normalize_vec(self.embeddings.loc[uri])\n",
    "            except KeyError:\n",
    "                vec = pd.Series(index=self.embeddings.columns).fillna(0)\n",
    "            self.cache[uri] = vec\n",
    "            return vec\n",
    "\n",
    "    def get_similarity(self, term1, term2):\n",
    "        \"\"\"\n",
    "        Get the cosine similarity between the embeddings of two terms.\n",
    "        \"\"\"\n",
    "        return self.get_vector(term1).dot(self.get_vector(term2))\n",
    "\n",
    "    def compare_attributes(self, term1, term2, attribute):\n",
    "        \"\"\"\n",
    "        Our heuristic for whether an attribute applies more to term1 than\n",
    "        to term2: find the cosine similarity of each term with the\n",
    "        attribute, and take the difference of the square roots of those\n",
    "        similarities.\n",
    "        \"\"\"\n",
    "        match1 = max(0, self.get_similarity(term1, attribute)) ** 0.5\n",
    "        match2 = max(0, self.get_similarity(term2, attribute)) ** 0.5\n",
    "        return match1 - match2\n",
    "    \n",
    "    def classify(self, term1, term2, attribute, threshold):\n",
    "        \"\"\"\n",
    "        Convert the attribute heuristic into a yes-or-no decision, by testing\n",
    "        whether the difference is larger than a given threshold.\n",
    "        \"\"\"\n",
    "        return self.compare_attributes(term1, term2, attribute) > threshold\n",
    "\n",
    "    def evaluate(self, semeval_filename, threshold):\n",
    "        \"\"\"\n",
    "        Evaluate the heuristic on a file containing instances of this form:\n",
    "        \n",
    "            banjo,harmonica,stations,0\n",
    "            mushroom,onions,stem,1\n",
    "            \n",
    "        Return the macro-averaged F1 score. (As in the task, we use macro-\n",
    "        averaged F1 instead of raw accuracy, to avoid being misled by\n",
    "        imbalanced classes.)\n",
    "        \"\"\"\n",
    "        our_answers = []\n",
    "        real_answers = []\n",
    "        for line in open(semeval_filename, encoding='utf-8'):\n",
    "            term1, term2, attribute, strval = line.rstrip().split(',')\n",
    "            discriminative = bool(int(strval))\n",
    "            real_answers.append(discriminative)\n",
    "            our_answers.append(self.classify(term1, term2, attribute, threshold))\n",
    "        \n",
    "        return f1_score(real_answers, our_answers, average='macro')\n"
   ]
  },
  {
   "cell_type": "markdown",
   "metadata": {},
   "source": [
    "When we ran this solution, our latest set of word embeddings calculated from ConceptNet was 'numberbatch-20180108-biased'. This name indicates that it was built on January 8, 2018, and acknowledges that we haven't run it through the [de-biasing](http://blog.conceptnet.io/posts/2017/conceptnet-numberbatch-17-04-better-less-stereotyped-word-vectors/) process, which we consider important when deploying a machine learning system.\n",
    "\n",
    "Here, we didn't want to complicate things by adding the de-biasing step. But keep in mind that this heuristic would probably have some unfortunate trends if it were asked to distinguish attributes of people's name, gender, or ethnicity."
   ]
  },
  {
   "cell_type": "code",
   "execution_count": 11,
   "metadata": {},
   "outputs": [],
   "source": [
    "heuristic = AttributeHeuristic('numberbatch-20180108-biased.h5')"
   ]
  },
  {
   "cell_type": "markdown",
   "metadata": {},
   "source": [
    "The classifier has one parameter that can vary, which is the \"threshold\": the minimum difference between cosine similarities that will count as a discriminative attribute. When we ran the training code [for our full SemEval entry](https://github.com/LuminosoInsight/semeval-discriminatt) on this one feature, we got a classifier that's equivalent to a threshold of 0.096. Let's simplify that by rounding it off to 0.1."
   ]
  },
  {
   "cell_type": "code",
   "execution_count": 13,
   "metadata": {},
   "outputs": [
    {
     "data": {
      "text/plain": [
       "0.6620320353802582"
      ]
     },
     "execution_count": 13,
     "metadata": {},
     "output_type": "execute_result"
    }
   ],
   "source": [
    "heuristic.evaluate('discriminatt-train.txt', threshold=0.1)"
   ]
  },
  {
   "cell_type": "markdown",
   "metadata": {},
   "source": [
    "When we were creating this code, we didn't have access to the test set -- this is pretty much the point of SemEval. We could compare results on the validation set, which is how we decided to use a combination of five features, where the feature you see here is only one of them. It's also how we found that taking the square root of the cosine similarities was helpful.\n",
    "\n",
    "When we're just revisiting a simplified version of the classifier, there isn't much that we need to do with the validation set, but let's take a look at how it does anyway."
   ]
  },
  {
   "cell_type": "code",
   "execution_count": 14,
   "metadata": {},
   "outputs": [
    {
     "data": {
      "text/plain": [
       "0.693873461779053"
      ]
     },
     "execution_count": 14,
     "metadata": {},
     "output_type": "execute_result"
    }
   ],
   "source": [
    "heuristic.evaluate('discriminatt-validation.txt', threshold=0.1)"
   ]
  },
  {
   "cell_type": "markdown",
   "metadata": {},
   "source": [
    "But what's really interesting about this simple heuristic is how it performs on the previously held-out test set."
   ]
  },
  {
   "cell_type": "code",
   "execution_count": 15,
   "metadata": {},
   "outputs": [
    {
     "data": {
      "text/plain": [
       "0.7358997147499388"
      ]
     },
     "execution_count": 15,
     "metadata": {},
     "output_type": "execute_result"
    }
   ],
   "source": [
    "heuristic.evaluate('discriminatt-test.txt', threshold=0.1)"
   ]
  },
  {
   "cell_type": "markdown",
   "metadata": {},
   "source": [
    "It's pretty remarkable to see a test accuracy that's so much higher than the training accuracy! It should actually make you suspicious that this classifier is somehow tuned to the test data.\n",
    "\n",
    "But that's why it's nice to have a result we can compare to that followed the SemEval process. Our actual SemEval entry got the same accuracy, 73.6%, and showed that we could attain that number without having any access to the test data.\n",
    "\n",
    "Many entries to this task performed better on the test data than on the validation data. It seems that the test set is cleaner overall than the validation set, which in turn is cleaner than the training set. Simple classifiers that generalize well had the chance to do much better on the test set. Classifiers which had the ability to focus too much on the specific details of the training set, some of which are erroneous, performed worse.\n",
    "\n",
    "But you could still question whether the simplified system that we came up with after the fact can actually be compared to the system we submitted, which will leads me on a digression about \"lucky systems\" at the end of this post."
   ]
  },
  {
   "cell_type": "markdown",
   "metadata": {},
   "source": [
    "## Examples\n",
    "\n",
    "Let's see how this heuristic does on some examples of these \"discriminative attribute\" questions.\n",
    "\n",
    "When we look at `heuristic.compare_attributes(a, b, c)`, we're asking if _a_ is more associated with _c_ than _b_ is. The heuristic returns a number. By our evaluation above, we consider the attribute to be discriminative if the number is 0.1 or greater."
   ]
  },
  {
   "cell_type": "markdown",
   "metadata": {},
   "source": [
    "Let's start with an easy one: Most windows are made of glass, and most doors aren't."
   ]
  },
  {
   "cell_type": "code",
   "execution_count": 17,
   "metadata": {},
   "outputs": [
    {
     "data": {
      "text/plain": [
       "0.16762984210407628"
      ]
     },
     "execution_count": 17,
     "metadata": {},
     "output_type": "execute_result"
    }
   ],
   "source": [
    "heuristic.compare_attributes('window', 'door', 'glass')"
   ]
  },
  {
   "cell_type": "markdown",
   "metadata": {},
   "source": [
    "From the examples in the code above: mushrooms have stems, while onions don't."
   ]
  },
  {
   "cell_type": "code",
   "execution_count": 35,
   "metadata": {},
   "outputs": [
    {
     "data": {
      "text/plain": [
       "0.11308354447365421"
      ]
     },
     "execution_count": 35,
     "metadata": {},
     "output_type": "execute_result"
    }
   ],
   "source": [
    "heuristic.compare_attributes('mushroom', 'onions', 'stem')"
   ]
  },
  {
   "cell_type": "markdown",
   "metadata": {},
   "source": [
    "This one comes straight from the task description: cappuccino contains milk, while americano doesn't. Unfortunately, our heuristic is not confident about the distinction, and returns a value less than 0.1. It would fail this example in the evaluation."
   ]
  },
  {
   "cell_type": "code",
   "execution_count": 37,
   "metadata": {},
   "outputs": [
    {
     "data": {
      "text/plain": [
       "0.06309686358452515"
      ]
     },
     "execution_count": 37,
     "metadata": {},
     "output_type": "execute_result"
    }
   ],
   "source": [
    "heuristic.compare_attributes('cappuccino', 'americano', 'milk')"
   ]
  },
  {
   "cell_type": "markdown",
   "metadata": {},
   "source": [
    "An example of a non-discriminative attribute: trains and subways both involve rails. Our heuristic barely gets this right, but only due to lack of confidence."
   ]
  },
  {
   "cell_type": "code",
   "execution_count": 38,
   "metadata": {},
   "outputs": [
    {
     "data": {
      "text/plain": [
       "0.08336122961828196"
      ]
     },
     "execution_count": 38,
     "metadata": {},
     "output_type": "execute_result"
    }
   ],
   "source": [
    "heuristic.compare_attributes('train', 'subway', 'rails')"
   ]
  },
  {
   "cell_type": "markdown",
   "metadata": {},
   "source": [
    "This was not required for the task, but the heuristic can also tell us when an attribute is discriminative in the opposite direction. Water is much more associated with soup than it is with fingers. It is a discriminative attribute that distinguishes _soup_ from _finger_, not _finger_ from _soup_. The heuristic gives us back a negative number indicating this."
   ]
  },
  {
   "cell_type": "code",
   "execution_count": 39,
   "metadata": {},
   "outputs": [
    {
     "data": {
      "text/plain": [
       "-0.2778968364707769"
      ]
     },
     "execution_count": 39,
     "metadata": {},
     "output_type": "execute_result"
    }
   ],
   "source": [
    "heuristic.compare_attributes('finger', 'soup', 'water')"
   ]
  },
  {
   "cell_type": "markdown",
   "metadata": {},
   "source": [
    "## Lucky systems\n",
    "\n",
    "As a kid, I used to hold marble racing tournaments in my room, rolling marbles simultaneously down plastic towers of tracks and funnels. I went so far as to set up a bracket of 64 marbles to find the fastest marble. I kind of thought that running marble tournaments was peculiar to me and my childhood, but now I've found out that marble racing videos on YouTube are a big thing! Some of them even have [overlays as if they're major sporting events](https://www.youtube.com/watch?v=7oZKioNQq-k).\n",
    "\n",
    "In the end, there's nothing special about the fastest marble compared to most other marbles. It's just lucky. If one ran the tournament again, the marble champion might lose in the first round. But the one thing you could conclude about the fastest marble is that it was no _worse_ than the other marbles. A bad marble (say, a misshapen one, or a plastic bead) would never luck out enough to win.\n",
    "\n",
    "In our paper, we tested 30 alternate versions of the classifier, including the one that was roughly equivalent to this very simple system. We were impressed by the fact that it performed as well as our real entry. And this could be because of the inherent power of ConceptNet Numberbatch, or it could be because it's the lucky marble.\n",
    "\n",
    "I tried it with other thresholds besides 0.1, and some of the nearby reasonable threshold values only score 71% or 72%. But that still tells you that this interestingly simple system is doing the right thing and is capable of getting a very good result. It's good enough to be the lucky marble, so it's good enough for this tutorial.\n",
    "\n",
    "Incidentally, the same argument about \"lucky systems\" applies to SemEval entries themselves. There are dozens of entries from different teams, and the top-scoring entry is going to be an entry that did the right thing and also got lucky.\n",
    "\n",
    "In the post-SemEval discussion at ACL, someone proposed that all results should be Bayesian probability distributions, estimated by evaluating systems on various subsets of the test data, and instead of declaring a single winner or a tie, we should get probabilistic beliefs as results: \"There is an 80% chance that entry A is the best solution to the task, an 18% chance that entry B is the best solution...\"\n",
    "\n",
    "I find this argument entirely reasonable, and probably unlikely to catch on in a world where we haven't even managed to replace the use of *p*-values."
   ]
  },
  {
   "cell_type": "code",
   "execution_count": null,
   "metadata": {},
   "outputs": [],
   "source": []
  }
 ],
 "metadata": {
  "kernelspec": {
   "display_name": "Python 3",
   "language": "python",
   "name": "python3"
  },
  "language_info": {
   "codemirror_mode": {
    "name": "ipython",
    "version": 3
   },
   "file_extension": ".py",
   "mimetype": "text/x-python",
   "name": "python",
   "nbconvert_exporter": "python",
   "pygments_lexer": "ipython3",
   "version": "3.6.5"
  }
 },
 "nbformat": 4,
 "nbformat_minor": 2
}
